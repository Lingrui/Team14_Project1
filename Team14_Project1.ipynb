{
 "cells": [
  {
   "cell_type": "markdown",
   "id": "8ded0dc2",
   "metadata": {},
   "source": [
    "# Project 1 - Drug annotation of 23andme report\n",
    "\n",
    "## Team 14  \n",
    "\n",
    "- Meagan Burt ()\n",
    "\n",
    "- Lingrui Cai \n",
    "\n",
    "- Kyle Contjes ()\n",
    "\n",
    "- Catherine Kenney ()\n",
    "\n"
   ]
  },
  {
   "cell_type": "markdown",
   "id": "d1d194e8",
   "metadata": {},
   "source": [
    "## Part I. Answer to the questions"
   ]
  },
  {
   "cell_type": "markdown",
   "id": "4cf3956f",
   "metadata": {},
   "source": [
    "### Meagan Burt\n",
    "1.What was your biggest challenge in this project? (regarding writing code and not only)\n",
    "\n",
    "2.What did you learn while working on this project? (regarding writing code and not only)\n",
    "\n",
    "3.If you had more time on the project what other question(s) would you like to answer? (at least one question is required)"
   ]
  },
  {
   "cell_type": "markdown",
   "id": "9ef86e52",
   "metadata": {},
   "source": [
    "### Lingrui Cai\n",
    "1.What was your biggest challenge in this project? (regarding writing code and not only)\n",
    "\n",
    "2.What did you learn while working on this project? (regarding writing code and not only)\n",
    "\n",
    "3.If you had more time on the project what other question(s) would you like to answer? (at least one question is required)"
   ]
  },
  {
   "cell_type": "markdown",
   "id": "c1754e26",
   "metadata": {},
   "source": [
    "### Kyle Contjes\n",
    "1.What was your biggest challenge in this project? (regarding writing code and not only)\n",
    "\n",
    "2.What did you learn while working on this project? (regarding writing code and not only)\n",
    "\n",
    "3.If you had more time on the project what other question(s) would you like to answer? (at least one question is required)"
   ]
  },
  {
   "cell_type": "markdown",
   "id": "89ddf1ce",
   "metadata": {},
   "source": [
    "### Catherine Kenney\n",
    "1.What was your biggest challenge in this project? (regarding writing code and not only)\n",
    "\n",
    "2.What did you learn while working on this project? (regarding writing code and not only)\n",
    "\n",
    "3.If you had more time on the project what other question(s) would you like to answer? (at least one question is required)"
   ]
  },
  {
   "cell_type": "markdown",
   "id": "22c37757",
   "metadata": {},
   "source": [
    "## Part II Solution"
   ]
  },
  {
   "cell_type": "markdown",
   "id": "32c29bbf",
   "metadata": {},
   "source": [
    "####  Read in files and data preparation\n",
    "\n",
    "23andme_v5_hg19_ref.txt.gz download from https://github.com/arrogantrobot/23andme2vcf\n",
    "\n",
    "PharmGKB download from https://www.pharmgkb.org/downloads\n",
    "\n",
    "Annotation data -> Variant and Clinical Annotations Data -> variantAnnotations.zip\n",
    "\n",
    "https://api.pharmgkb.org/v1/download/file/data/variantAnnotations.zip"
   ]
  },
  {
   "cell_type": "markdown",
   "id": "de14b46e",
   "metadata": {},
   "source": [
    "#### 1. Map/merge the 23andme file and the variant-drug annotation file based on dbSNP_ID (also known as rsID)."
   ]
  },
  {
   "cell_type": "code",
   "execution_count": 2,
   "id": "d17815b3-9735-4978-a077-d17d619ab9b2",
   "metadata": {},
   "outputs": [],
   "source": [
    "import pandas as pd\n",
    "import numpy as np"
   ]
  },
  {
   "cell_type": "code",
   "execution_count": 55,
   "id": "d9f3ca3f",
   "metadata": {},
   "outputs": [
    {
     "name": "stderr",
     "output_type": "stream",
     "text": [
      "b'Skipping line 4354: expected 11 fields, saw 13\\n'\n"
     ]
    },
    {
     "data": {
      "text/html": [
       "<div>\n",
       "<style scoped>\n",
       "    .dataframe tbody tr th:only-of-type {\n",
       "        vertical-align: middle;\n",
       "    }\n",
       "\n",
       "    .dataframe tbody tr th {\n",
       "        vertical-align: top;\n",
       "    }\n",
       "\n",
       "    .dataframe thead th {\n",
       "        text-align: right;\n",
       "    }\n",
       "</style>\n",
       "<table border=\"1\" class=\"dataframe\">\n",
       "  <thead>\n",
       "    <tr style=\"text-align: right;\">\n",
       "      <th></th>\n",
       "      <th>Variant Annotation ID</th>\n",
       "      <th>Variant/Haplotypes</th>\n",
       "      <th>Gene</th>\n",
       "      <th>Drug(s)</th>\n",
       "      <th>PMID</th>\n",
       "      <th>Phenotype Category</th>\n",
       "      <th>Significance</th>\n",
       "      <th>Notes</th>\n",
       "      <th>Sentence</th>\n",
       "      <th>Alleles</th>\n",
       "      <th>Specialty Population</th>\n",
       "    </tr>\n",
       "  </thead>\n",
       "  <tbody>\n",
       "    <tr>\n",
       "      <th>1</th>\n",
       "      <td>1451159680</td>\n",
       "      <td>rs5031016</td>\n",
       "      <td>CYP2A6</td>\n",
       "      <td>warfarin</td>\n",
       "      <td>22248286</td>\n",
       "      <td>Dosage</td>\n",
       "      <td>no</td>\n",
       "      <td>No association was found between this variant ...</td>\n",
       "      <td>Allele G is not associated with increased dose...</td>\n",
       "      <td>G</td>\n",
       "      <td>NaN</td>\n",
       "    </tr>\n",
       "    <tr>\n",
       "      <th>2</th>\n",
       "      <td>1183684657</td>\n",
       "      <td>CYP2D6 ultrarapid metabolizer genotype</td>\n",
       "      <td>CYP2D6</td>\n",
       "      <td>tramadol</td>\n",
       "      <td>18204346</td>\n",
       "      <td>Metabolism/PK</td>\n",
       "      <td>yes</td>\n",
       "      <td>Median (+)R,R-tramadol area under the curve wa...</td>\n",
       "      <td>CYP2D6 ultra-metabolizer genotype is associate...</td>\n",
       "      <td>NaN</td>\n",
       "      <td>NaN</td>\n",
       "    </tr>\n",
       "    <tr>\n",
       "      <th>3</th>\n",
       "      <td>1451306860</td>\n",
       "      <td>CYP2C9*11</td>\n",
       "      <td>CYP2C9</td>\n",
       "      <td>warfarin</td>\n",
       "      <td>33350885</td>\n",
       "      <td>Dosage</td>\n",
       "      <td>not stated</td>\n",
       "      <td>This case suggests that CYP2C9 *11/*11 carrier...</td>\n",
       "      <td>CYP2C9 *11/*11 is associated with decreased do...</td>\n",
       "      <td>*11/*11</td>\n",
       "      <td>NaN</td>\n",
       "    </tr>\n",
       "    <tr>\n",
       "      <th>4</th>\n",
       "      <td>1448997750</td>\n",
       "      <td>CYP2B6*1, CYP2B6*18</td>\n",
       "      <td>CYP2B6</td>\n",
       "      <td>efavirenz</td>\n",
       "      <td>16495778</td>\n",
       "      <td>Metabolism/PK</td>\n",
       "      <td>yes</td>\n",
       "      <td>Please note that in the paper the allele was r...</td>\n",
       "      <td>CYP2B6 *1/*18 is associated with increased con...</td>\n",
       "      <td>*1/*18</td>\n",
       "      <td>NaN</td>\n",
       "    </tr>\n",
       "    <tr>\n",
       "      <th>5</th>\n",
       "      <td>1448631821</td>\n",
       "      <td>CYP2C19*1, CYP2C19*2</td>\n",
       "      <td>CYP2C19</td>\n",
       "      <td>clomipramine,\"desmethyl clomipramine\"</td>\n",
       "      <td>28470111</td>\n",
       "      <td>Metabolism/PK</td>\n",
       "      <td>no</td>\n",
       "      <td>in a single individual</td>\n",
       "      <td>CYP2C19 *1/*2 is associated with increased tro...</td>\n",
       "      <td>*1/*2</td>\n",
       "      <td>NaN</td>\n",
       "    </tr>\n",
       "  </tbody>\n",
       "</table>\n",
       "</div>"
      ],
      "text/plain": [
       "   Variant Annotation ID                      Variant/Haplotypes     Gene  \\\n",
       "1             1451159680                               rs5031016   CYP2A6   \n",
       "2             1183684657  CYP2D6 ultrarapid metabolizer genotype   CYP2D6   \n",
       "3             1451306860                               CYP2C9*11   CYP2C9   \n",
       "4             1448997750                     CYP2B6*1, CYP2B6*18   CYP2B6   \n",
       "5             1448631821                    CYP2C19*1, CYP2C19*2  CYP2C19   \n",
       "\n",
       "                                 Drug(s)      PMID Phenotype Category  \\\n",
       "1                               warfarin  22248286             Dosage   \n",
       "2                               tramadol  18204346      Metabolism/PK   \n",
       "3                               warfarin  33350885             Dosage   \n",
       "4                              efavirenz  16495778      Metabolism/PK   \n",
       "5  clomipramine,\"desmethyl clomipramine\"  28470111      Metabolism/PK   \n",
       "\n",
       "  Significance                                              Notes  \\\n",
       "1           no  No association was found between this variant ...   \n",
       "2          yes  Median (+)R,R-tramadol area under the curve wa...   \n",
       "3   not stated  This case suggests that CYP2C9 *11/*11 carrier...   \n",
       "4          yes  Please note that in the paper the allele was r...   \n",
       "5           no                             in a single individual   \n",
       "\n",
       "                                            Sentence  Alleles  \\\n",
       "1  Allele G is not associated with increased dose...        G   \n",
       "2  CYP2D6 ultra-metabolizer genotype is associate...      NaN   \n",
       "3  CYP2C9 *11/*11 is associated with decreased do...  *11/*11   \n",
       "4  CYP2B6 *1/*18 is associated with increased con...   *1/*18   \n",
       "5  CYP2C19 *1/*2 is associated with increased tro...    *1/*2   \n",
       "\n",
       "  Specialty Population  \n",
       "1                  NaN  \n",
       "2                  NaN  \n",
       "3                  NaN  \n",
       "4                  NaN  \n",
       "5                  NaN  "
      ]
     },
     "execution_count": 55,
     "metadata": {},
     "output_type": "execute_result"
    }
   ],
   "source": [
    "var_drugs = pd.read_csv('var_drug_ann.tsv', sep = '\\t', error_bad_lines = False)\n",
    "inds = var_drugs.index\n",
    "var_drugs.index = inds + 1\n",
    "var_drugs.head()"
   ]
  },
  {
   "cell_type": "code",
   "execution_count": 83,
   "id": "0809c9e0",
   "metadata": {},
   "outputs": [
    {
     "data": {
      "text/html": [
       "<div>\n",
       "<style scoped>\n",
       "    .dataframe tbody tr th:only-of-type {\n",
       "        vertical-align: middle;\n",
       "    }\n",
       "\n",
       "    .dataframe tbody tr th {\n",
       "        vertical-align: top;\n",
       "    }\n",
       "\n",
       "    .dataframe thead th {\n",
       "        text-align: right;\n",
       "    }\n",
       "</style>\n",
       "<table border=\"1\" class=\"dataframe\">\n",
       "  <thead>\n",
       "    <tr style=\"text-align: right;\">\n",
       "      <th></th>\n",
       "      <th>CHR</th>\n",
       "      <th>POS</th>\n",
       "      <th>dbSNP_ID</th>\n",
       "      <th>ALLELE</th>\n",
       "    </tr>\n",
       "  </thead>\n",
       "  <tbody>\n",
       "    <tr>\n",
       "      <th>0</th>\n",
       "      <td>chr1</td>\n",
       "      <td>74792</td>\n",
       "      <td>rs13328684</td>\n",
       "      <td>G</td>\n",
       "    </tr>\n",
       "    <tr>\n",
       "      <th>1</th>\n",
       "      <td>chr1</td>\n",
       "      <td>565508</td>\n",
       "      <td>rs9283150</td>\n",
       "      <td>G</td>\n",
       "    </tr>\n",
       "    <tr>\n",
       "      <th>2</th>\n",
       "      <td>chr1</td>\n",
       "      <td>726912</td>\n",
       "      <td>i713426</td>\n",
       "      <td>A</td>\n",
       "    </tr>\n",
       "    <tr>\n",
       "      <th>3</th>\n",
       "      <td>chr1</td>\n",
       "      <td>727841</td>\n",
       "      <td>rs116587930</td>\n",
       "      <td>G</td>\n",
       "    </tr>\n",
       "    <tr>\n",
       "      <th>4</th>\n",
       "      <td>chr1</td>\n",
       "      <td>752721</td>\n",
       "      <td>rs3131972</td>\n",
       "      <td>A</td>\n",
       "    </tr>\n",
       "  </tbody>\n",
       "</table>\n",
       "</div>"
      ],
      "text/plain": [
       "    CHR     POS     dbSNP_ID ALLELE\n",
       "0  chr1   74792   rs13328684      G\n",
       "1  chr1  565508    rs9283150      G\n",
       "2  chr1  726912      i713426      A\n",
       "3  chr1  727841  rs116587930      G\n",
       "4  chr1  752721    rs3131972      A"
      ]
     },
     "execution_count": 83,
     "metadata": {},
     "output_type": "execute_result"
    }
   ],
   "source": [
    "ref_file_head = [\"CHR\", \"POS\", \"dbSNP_ID\", \"ALLELE\"]\n",
    "ref_file = pd.read_csv('23andme_v5_hg19_ref.txt', sep = '\\t')\n",
    "ref_file.columns = ref_file_head\n",
    "ref_file.head()"
   ]
  },
  {
   "cell_type": "code",
   "execution_count": 88,
   "id": "ebda6d24-a9b4-4fa3-bb60-1fe508ad1d44",
   "metadata": {},
   "outputs": [
    {
     "ename": "KeyError",
     "evalue": "'dbSNP_ID'",
     "output_type": "error",
     "traceback": [
      "\u001b[1;31m---------------------------------------------------------------------------\u001b[0m",
      "\u001b[1;31mKeyError\u001b[0m                                  Traceback (most recent call last)",
      "\u001b[1;32m~\\anaconda3\\lib\\site-packages\\pandas\\core\\indexes\\base.py\u001b[0m in \u001b[0;36mget_loc\u001b[1;34m(self, key, method, tolerance)\u001b[0m\n\u001b[0;32m   3079\u001b[0m             \u001b[1;32mtry\u001b[0m\u001b[1;33m:\u001b[0m\u001b[1;33m\u001b[0m\u001b[1;33m\u001b[0m\u001b[0m\n\u001b[1;32m-> 3080\u001b[1;33m                 \u001b[1;32mreturn\u001b[0m \u001b[0mself\u001b[0m\u001b[1;33m.\u001b[0m\u001b[0m_engine\u001b[0m\u001b[1;33m.\u001b[0m\u001b[0mget_loc\u001b[0m\u001b[1;33m(\u001b[0m\u001b[0mcasted_key\u001b[0m\u001b[1;33m)\u001b[0m\u001b[1;33m\u001b[0m\u001b[1;33m\u001b[0m\u001b[0m\n\u001b[0m\u001b[0;32m   3081\u001b[0m             \u001b[1;32mexcept\u001b[0m \u001b[0mKeyError\u001b[0m \u001b[1;32mas\u001b[0m \u001b[0merr\u001b[0m\u001b[1;33m:\u001b[0m\u001b[1;33m\u001b[0m\u001b[1;33m\u001b[0m\u001b[0m\n",
      "\u001b[1;32mpandas\\_libs\\index.pyx\u001b[0m in \u001b[0;36mpandas._libs.index.IndexEngine.get_loc\u001b[1;34m()\u001b[0m\n",
      "\u001b[1;32mpandas\\_libs\\index.pyx\u001b[0m in \u001b[0;36mpandas._libs.index.IndexEngine.get_loc\u001b[1;34m()\u001b[0m\n",
      "\u001b[1;32mpandas\\_libs\\hashtable_class_helper.pxi\u001b[0m in \u001b[0;36mpandas._libs.hashtable.PyObjectHashTable.get_item\u001b[1;34m()\u001b[0m\n",
      "\u001b[1;32mpandas\\_libs\\hashtable_class_helper.pxi\u001b[0m in \u001b[0;36mpandas._libs.hashtable.PyObjectHashTable.get_item\u001b[1;34m()\u001b[0m\n",
      "\u001b[1;31mKeyError\u001b[0m: 'dbSNP_ID'",
      "\nThe above exception was the direct cause of the following exception:\n",
      "\u001b[1;31mKeyError\u001b[0m                                  Traceback (most recent call last)",
      "\u001b[1;32m<ipython-input-88-f041e94d535c>\u001b[0m in \u001b[0;36m<module>\u001b[1;34m\u001b[0m\n\u001b[0;32m      1\u001b[0m \u001b[0mfiltered_vd\u001b[0m \u001b[1;33m=\u001b[0m \u001b[0mvar_drugs\u001b[0m\u001b[1;33m[\u001b[0m\u001b[0mvar_drugs\u001b[0m\u001b[1;33m[\u001b[0m\u001b[1;34m'Variant/Haplotypes'\u001b[0m\u001b[1;33m]\u001b[0m\u001b[1;33m.\u001b[0m\u001b[0mstr\u001b[0m\u001b[1;33m.\u001b[0m\u001b[0mstartswith\u001b[0m\u001b[1;33m(\u001b[0m\u001b[1;34m'rs'\u001b[0m\u001b[1;33m)\u001b[0m\u001b[1;33m]\u001b[0m\u001b[1;33m\u001b[0m\u001b[1;33m\u001b[0m\u001b[0m\n\u001b[0;32m      2\u001b[0m \u001b[0mfiltered_vd\u001b[0m \u001b[1;33m=\u001b[0m \u001b[0mfiltered_vd\u001b[0m\u001b[1;33m.\u001b[0m\u001b[0mrename\u001b[0m\u001b[1;33m(\u001b[0m\u001b[0mcolumns\u001b[0m \u001b[1;33m=\u001b[0m \u001b[1;33m{\u001b[0m\u001b[1;34m\"Variant/Haplotypes\"\u001b[0m\u001b[1;33m:\u001b[0m \u001b[1;34m\"dbSnp_ID\"\u001b[0m\u001b[1;33m}\u001b[0m\u001b[1;33m)\u001b[0m\u001b[1;33m\u001b[0m\u001b[1;33m\u001b[0m\u001b[0m\n\u001b[1;32m----> 3\u001b[1;33m \u001b[0mfiltered_vd\u001b[0m\u001b[1;33m.\u001b[0m\u001b[0mmerge\u001b[0m\u001b[1;33m(\u001b[0m\u001b[1;33m{\u001b[0m\u001b[0mfiltered_vd\u001b[0m\u001b[1;33m[\u001b[0m\u001b[1;34m'dbSNP_ID'\u001b[0m\u001b[1;33m]\u001b[0m\u001b[1;33m:\u001b[0m\u001b[0mref_file\u001b[0m\u001b[1;33m[\u001b[0m\u001b[1;34m'dbSNP_ID'\u001b[0m\u001b[1;33m]\u001b[0m\u001b[1;33m}\u001b[0m\u001b[1;33m)\u001b[0m\u001b[1;33m\u001b[0m\u001b[1;33m\u001b[0m\u001b[0m\n\u001b[0m",
      "\u001b[1;32m~\\anaconda3\\lib\\site-packages\\pandas\\core\\frame.py\u001b[0m in \u001b[0;36m__getitem__\u001b[1;34m(self, key)\u001b[0m\n\u001b[0;32m   3022\u001b[0m             \u001b[1;32mif\u001b[0m \u001b[0mself\u001b[0m\u001b[1;33m.\u001b[0m\u001b[0mcolumns\u001b[0m\u001b[1;33m.\u001b[0m\u001b[0mnlevels\u001b[0m \u001b[1;33m>\u001b[0m \u001b[1;36m1\u001b[0m\u001b[1;33m:\u001b[0m\u001b[1;33m\u001b[0m\u001b[1;33m\u001b[0m\u001b[0m\n\u001b[0;32m   3023\u001b[0m                 \u001b[1;32mreturn\u001b[0m \u001b[0mself\u001b[0m\u001b[1;33m.\u001b[0m\u001b[0m_getitem_multilevel\u001b[0m\u001b[1;33m(\u001b[0m\u001b[0mkey\u001b[0m\u001b[1;33m)\u001b[0m\u001b[1;33m\u001b[0m\u001b[1;33m\u001b[0m\u001b[0m\n\u001b[1;32m-> 3024\u001b[1;33m             \u001b[0mindexer\u001b[0m \u001b[1;33m=\u001b[0m \u001b[0mself\u001b[0m\u001b[1;33m.\u001b[0m\u001b[0mcolumns\u001b[0m\u001b[1;33m.\u001b[0m\u001b[0mget_loc\u001b[0m\u001b[1;33m(\u001b[0m\u001b[0mkey\u001b[0m\u001b[1;33m)\u001b[0m\u001b[1;33m\u001b[0m\u001b[1;33m\u001b[0m\u001b[0m\n\u001b[0m\u001b[0;32m   3025\u001b[0m             \u001b[1;32mif\u001b[0m \u001b[0mis_integer\u001b[0m\u001b[1;33m(\u001b[0m\u001b[0mindexer\u001b[0m\u001b[1;33m)\u001b[0m\u001b[1;33m:\u001b[0m\u001b[1;33m\u001b[0m\u001b[1;33m\u001b[0m\u001b[0m\n\u001b[0;32m   3026\u001b[0m                 \u001b[0mindexer\u001b[0m \u001b[1;33m=\u001b[0m \u001b[1;33m[\u001b[0m\u001b[0mindexer\u001b[0m\u001b[1;33m]\u001b[0m\u001b[1;33m\u001b[0m\u001b[1;33m\u001b[0m\u001b[0m\n",
      "\u001b[1;32m~\\anaconda3\\lib\\site-packages\\pandas\\core\\indexes\\base.py\u001b[0m in \u001b[0;36mget_loc\u001b[1;34m(self, key, method, tolerance)\u001b[0m\n\u001b[0;32m   3080\u001b[0m                 \u001b[1;32mreturn\u001b[0m \u001b[0mself\u001b[0m\u001b[1;33m.\u001b[0m\u001b[0m_engine\u001b[0m\u001b[1;33m.\u001b[0m\u001b[0mget_loc\u001b[0m\u001b[1;33m(\u001b[0m\u001b[0mcasted_key\u001b[0m\u001b[1;33m)\u001b[0m\u001b[1;33m\u001b[0m\u001b[1;33m\u001b[0m\u001b[0m\n\u001b[0;32m   3081\u001b[0m             \u001b[1;32mexcept\u001b[0m \u001b[0mKeyError\u001b[0m \u001b[1;32mas\u001b[0m \u001b[0merr\u001b[0m\u001b[1;33m:\u001b[0m\u001b[1;33m\u001b[0m\u001b[1;33m\u001b[0m\u001b[0m\n\u001b[1;32m-> 3082\u001b[1;33m                 \u001b[1;32mraise\u001b[0m \u001b[0mKeyError\u001b[0m\u001b[1;33m(\u001b[0m\u001b[0mkey\u001b[0m\u001b[1;33m)\u001b[0m \u001b[1;32mfrom\u001b[0m \u001b[0merr\u001b[0m\u001b[1;33m\u001b[0m\u001b[1;33m\u001b[0m\u001b[0m\n\u001b[0m\u001b[0;32m   3083\u001b[0m \u001b[1;33m\u001b[0m\u001b[0m\n\u001b[0;32m   3084\u001b[0m         \u001b[1;32mif\u001b[0m \u001b[0mtolerance\u001b[0m \u001b[1;32mis\u001b[0m \u001b[1;32mnot\u001b[0m \u001b[1;32mNone\u001b[0m\u001b[1;33m:\u001b[0m\u001b[1;33m\u001b[0m\u001b[1;33m\u001b[0m\u001b[0m\n",
      "\u001b[1;31mKeyError\u001b[0m: 'dbSNP_ID'"
     ]
    }
   ],
   "source": [
    "filtered_vd = var_drugs[var_drugs['Variant/Haplotypes'].str.startswith('rs')]\n",
    "filtered_vd = filtered_vd.rename(columns = {\"Variant/Haplotypes\": \"dbSnp_ID\"})\n",
    "#need to merge or map filtered_vd and ref_file"
   ]
  },
  {
   "cell_type": "markdown",
   "id": "0d1ee6e7",
   "metadata": {},
   "source": [
    "#### 2. Filter the output so that it only contains significant associations (SIGNIFICANCE is yes) for variants that affect the drug efficacy (`PHENOTYPE_CATEGORY` is `efficacy`)."
   ]
  },
  {
   "cell_type": "code",
   "execution_count": null,
   "id": "fff1a3cd",
   "metadata": {},
   "outputs": [],
   "source": []
  },
  {
   "cell_type": "code",
   "execution_count": null,
   "id": "fb212746",
   "metadata": {},
   "outputs": [],
   "source": []
  },
  {
   "cell_type": "markdown",
   "id": "ba5567d9",
   "metadata": {},
   "source": [
    "#### 3. Save the output of the filtering step in a tab-separated file (23andme_PharmGKB_map.tsv) with the following columns:"
   ]
  },
  {
   "cell_type": "code",
   "execution_count": null,
   "id": "13278f75",
   "metadata": {},
   "outputs": [],
   "source": []
  },
  {
   "cell_type": "code",
   "execution_count": null,
   "id": "f46645e2",
   "metadata": {},
   "outputs": [],
   "source": []
  },
  {
   "cell_type": "code",
   "execution_count": null,
   "id": "60a163af",
   "metadata": {},
   "outputs": [],
   "source": []
  },
  {
   "cell_type": "markdown",
   "id": "f9f0b7d3",
   "metadata": {},
   "source": [
    "#### 4. Create a tab separated file with summarized data with the following columns:"
   ]
  },
  {
   "cell_type": "code",
   "execution_count": null,
   "id": "274bd097",
   "metadata": {},
   "outputs": [],
   "source": []
  },
  {
   "cell_type": "code",
   "execution_count": null,
   "id": "76fb9f7f",
   "metadata": {},
   "outputs": [],
   "source": []
  },
  {
   "cell_type": "code",
   "execution_count": null,
   "id": "8a5b7dcc",
   "metadata": {},
   "outputs": [],
   "source": []
  },
  {
   "cell_type": "markdown",
   "id": "fbf4ac9f",
   "metadata": {},
   "source": [
    "#### 5. Plot the distribution of the number of drugs associated with a gene, and the number of SNPs for a gene. "
   ]
  },
  {
   "cell_type": "code",
   "execution_count": null,
   "id": "7a15d724",
   "metadata": {},
   "outputs": [],
   "source": []
  },
  {
   "cell_type": "code",
   "execution_count": null,
   "id": "c33f8772",
   "metadata": {},
   "outputs": [],
   "source": []
  },
  {
   "cell_type": "code",
   "execution_count": null,
   "id": "a08ba3c4",
   "metadata": {},
   "outputs": [],
   "source": []
  }
 ],
 "metadata": {
  "kernelspec": {
   "display_name": "Python 3",
   "language": "python",
   "name": "python3"
  },
  "language_info": {
   "codemirror_mode": {
    "name": "ipython",
    "version": 3
   },
   "file_extension": ".py",
   "mimetype": "text/x-python",
   "name": "python",
   "nbconvert_exporter": "python",
   "pygments_lexer": "ipython3",
   "version": "3.8.8"
  }
 },
 "nbformat": 4,
 "nbformat_minor": 5
}
