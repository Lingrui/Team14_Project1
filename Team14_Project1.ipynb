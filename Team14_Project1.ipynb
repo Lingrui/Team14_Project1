{
 "cells": [
  {
   "cell_type": "markdown",
   "id": "8ded0dc2",
   "metadata": {},
   "source": [
    "# Project 1 - Drug annotation of 23andme report\n",
    "\n",
    "## Team 14  \n",
    "\n",
    "- Meagan Burt ()\n",
    "\n",
    "- Lingrui Cai \n",
    "\n",
    "- Kyle Contjes ()\n",
    "\n",
    "- Catherine Kenney ()\n",
    "\n"
   ]
  },
  {
   "cell_type": "markdown",
   "id": "d1d194e8",
   "metadata": {},
   "source": [
    "## Part I. Answer to the questions"
   ]
  },
  {
   "cell_type": "markdown",
   "id": "4cf3956f",
   "metadata": {},
   "source": [
    "### Meagan Burt\n",
    "1.What was your biggest challenge in this project? (regarding writing code and not only)\n",
    "\n",
    "2.What did you learn while working on this project? (regarding writing code and not only)\n",
    "\n",
    "3.If you had more time on the project what other question(s) would you like to answer? (at least one question is required)"
   ]
  },
  {
   "cell_type": "markdown",
   "id": "9ef86e52",
   "metadata": {},
   "source": [
    "### Lingrui Cai\n",
    "1.What was your biggest challenge in this project? (regarding writing code and not only)\n",
    "\n",
    "2.What did you learn while working on this project? (regarding writing code and not only)\n",
    "\n",
    "3.If you had more time on the project what other question(s) would you like to answer? (at least one question is required)"
   ]
  },
  {
   "cell_type": "markdown",
   "id": "c1754e26",
   "metadata": {},
   "source": [
    "### Kyle Contjes\n",
    "1.What was your biggest challenge in this project? (regarding writing code and not only)\n",
    "\n",
    "2.What did you learn while working on this project? (regarding writing code and not only)\n",
    "\n",
    "3.If you had more time on the project what other question(s) would you like to answer? (at least one question is required)"
   ]
  },
  {
   "cell_type": "markdown",
   "id": "89ddf1ce",
   "metadata": {},
   "source": [
    "### Catherine Kenney\n",
    "1.What was your biggest challenge in this project? (regarding writing code and not only)\n",
    "\n",
    "2.What did you learn while working on this project? (regarding writing code and not only)\n",
    "\n",
    "3.If you had more time on the project what other question(s) would you like to answer? (at least one question is required)"
   ]
  },
  {
   "cell_type": "markdown",
   "id": "22c37757",
   "metadata": {},
   "source": [
    "## Part II Solution"
   ]
  },
  {
   "cell_type": "markdown",
   "id": "32c29bbf",
   "metadata": {},
   "source": [
    "####  Read in files and data preparation\n",
    "\n",
    "23andme_v5_hg19_ref.txt.gz download from https://github.com/arrogantrobot/23andme2vcf\n",
    "\n",
    "PharmGKB download from https://www.pharmgkb.org/downloads\n",
    "\n",
    "Annotation data -> Variant and Clinical Annotations Data -> variantAnnotations.zip\n",
    "\n",
    "https://api.pharmgkb.org/v1/download/file/data/variantAnnotations.zip"
   ]
  },
  {
   "cell_type": "markdown",
   "id": "de14b46e",
   "metadata": {},
   "source": [
    "#### 1. Map/merge the 23andme file and the variant-drug annotation file based on dbSNP_ID (also known as rsID)."
   ]
  },
  {
   "cell_type": "code",
   "execution_count": null,
   "id": "d9f3ca3f",
   "metadata": {},
   "outputs": [],
   "source": []
  },
  {
   "cell_type": "code",
   "execution_count": null,
   "id": "0809c9e0",
   "metadata": {},
   "outputs": [],
   "source": []
  },
  {
   "cell_type": "markdown",
   "id": "0d1ee6e7",
   "metadata": {},
   "source": [
    "#### 2. Filter the output so that it only contains significant associations (SIGNIFICANCE is yes) for variants that affect the drug efficacy (`PHENOTYPE_CATEGORY` is `efficacy`)."
   ]
  },
  {
   "cell_type": "code",
   "execution_count": null,
   "id": "fff1a3cd",
   "metadata": {},
   "outputs": [],
   "source": []
  },
  {
   "cell_type": "code",
   "execution_count": null,
   "id": "fb212746",
   "metadata": {},
   "outputs": [],
   "source": []
  },
  {
   "cell_type": "markdown",
   "id": "ba5567d9",
   "metadata": {},
   "source": [
    "#### 3. Save the output of the filtering step in a tab-separated file (23andme_PharmGKB_map.tsv) with the following columns:"
   ]
  },
  {
   "cell_type": "code",
   "execution_count": null,
   "id": "13278f75",
   "metadata": {},
   "outputs": [],
   "source": []
  },
  {
   "cell_type": "code",
   "execution_count": null,
   "id": "f46645e2",
   "metadata": {},
   "outputs": [],
   "source": []
  },
  {
   "cell_type": "code",
   "execution_count": null,
   "id": "60a163af",
   "metadata": {},
   "outputs": [],
   "source": []
  },
  {
   "cell_type": "markdown",
   "id": "f9f0b7d3",
   "metadata": {},
   "source": [
    "#### 4. Create a tab separated file with summarized data with the following columns:"
   ]
  },
  {
   "cell_type": "code",
   "execution_count": null,
   "id": "274bd097",
   "metadata": {},
   "outputs": [],
   "source": []
  },
  {
   "cell_type": "code",
   "execution_count": null,
   "id": "76fb9f7f",
   "metadata": {},
   "outputs": [],
   "source": []
  },
  {
   "cell_type": "code",
   "execution_count": null,
   "id": "8a5b7dcc",
   "metadata": {},
   "outputs": [],
   "source": []
  },
  {
   "cell_type": "markdown",
   "id": "fbf4ac9f",
   "metadata": {},
   "source": [
    "#### 5. Plot the distribution of the number of drugs associated with a gene, and the number of SNPs for a gene. "
   ]
  },
  {
   "cell_type": "code",
   "execution_count": null,
   "id": "7a15d724",
   "metadata": {},
   "outputs": [],
   "source": []
  },
  {
   "cell_type": "code",
   "execution_count": null,
   "id": "c33f8772",
   "metadata": {},
   "outputs": [],
   "source": []
  },
  {
   "cell_type": "code",
   "execution_count": null,
   "id": "a08ba3c4",
   "metadata": {},
   "outputs": [],
   "source": []
  }
 ],
 "metadata": {
  "kernelspec": {
   "display_name": "Python 3",
   "language": "python",
   "name": "python3"
  },
  "language_info": {
   "codemirror_mode": {
    "name": "ipython",
    "version": 3
   },
   "file_extension": ".py",
   "mimetype": "text/x-python",
   "name": "python",
   "nbconvert_exporter": "python",
   "pygments_lexer": "ipython3",
   "version": "3.8.8"
  }
 },
 "nbformat": 4,
 "nbformat_minor": 5
}
